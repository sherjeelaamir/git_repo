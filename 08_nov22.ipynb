{
 "cells": [
  {
   "cell_type": "code",
   "execution_count": 2,
   "id": "505807b2",
   "metadata": {
    "scrolled": true
   },
   "outputs": [
    {
     "name": "stdout",
     "output_type": "stream",
     "text": [
      "MY Name is Sherjeel\n"
     ]
    }
   ],
   "source": [
    "print(\"MY Name is Sherjeel\")"
   ]
  },
  {
   "cell_type": "markdown",
   "id": "e49961e2",
   "metadata": {},
   "source": [
    "# Calculate BMI"
   ]
  },
  {
   "cell_type": "code",
   "execution_count": 23,
   "id": "b1beb6f1",
   "metadata": {},
   "outputs": [
    {
     "name": "stdout",
     "output_type": "stream",
     "text": [
      "Enter height?1.8\n"
     ]
    }
   ],
   "source": [
    "height= float(input(\"Enter height?\"))\n"
   ]
  },
  {
   "cell_type": "code",
   "execution_count": 22,
   "id": "8987e69c",
   "metadata": {},
   "outputs": [
    {
     "name": "stdout",
     "output_type": "stream",
     "text": [
      "input weight82\n"
     ]
    }
   ],
   "source": [
    "weight = float(input(\"input weight\"))\n"
   ]
  },
  {
   "cell_type": "code",
   "execution_count": 24,
   "id": "3e37bc97",
   "metadata": {},
   "outputs": [
    {
     "data": {
      "text/plain": [
       "25.30864197530864"
      ]
     },
     "execution_count": 24,
     "metadata": {},
     "output_type": "execute_result"
    }
   ],
   "source": [
    "bmi  = weight/height **2\n",
    "bmi"
   ]
  },
  {
   "cell_type": "code",
   "execution_count": 28,
   "id": "c4609ce5",
   "metadata": {
    "scrolled": true
   },
   "outputs": [
    {
     "name": "stdout",
     "output_type": "stream",
     "text": [
      "Your BMI is 25.30864197530864\n"
     ]
    }
   ],
   "source": [
    "print(\"Your BMI is \"+ str(bmi))"
   ]
  },
  {
   "cell_type": "markdown",
   "id": "60dc1bf5",
   "metadata": {},
   "source": []
  }
 ],
 "metadata": {
  "kernelspec": {
   "display_name": "Python 3 (ipykernel)",
   "language": "python",
   "name": "python3"
  },
  "language_info": {
   "codemirror_mode": {
    "name": "ipython",
    "version": 3
   },
   "file_extension": ".py",
   "mimetype": "text/x-python",
   "name": "python",
   "nbconvert_exporter": "python",
   "pygments_lexer": "ipython3",
   "version": "3.9.13"
  }
 },
 "nbformat": 4,
 "nbformat_minor": 5
}
