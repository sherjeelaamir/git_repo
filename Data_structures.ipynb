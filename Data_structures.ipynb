{
 "cells": [
  {
   "cell_type": "markdown",
   "id": "55c3abfd",
   "metadata": {},
   "source": [
    "## Tuple\n",
    " - ORDERED COLLECTION OF ELEMENTS\n",
    " - ENCLOSED IN ROUND BRACES\n",
    " - DIFFERENT TYPES OF ELEMENTS CAN BE STORED\n",
    " - ONCE ELEMENTS STORED CANNOT BE CHANGED"
   ]
  },
  {
   "cell_type": "code",
   "execution_count": 2,
   "id": "7ce5a172",
   "metadata": {},
   "outputs": [
    {
     "data": {
      "text/plain": [
       "(1, 'python', True, 2.4)"
      ]
     },
     "execution_count": 2,
     "metadata": {},
     "output_type": "execute_result"
    }
   ],
   "source": [
    "tup1 = (1,\"python\", True, 2.4)\n",
    "tup1"
   ]
  },
  {
   "cell_type": "code",
   "execution_count": 3,
   "id": "d6046470",
   "metadata": {},
   "outputs": [
    {
     "data": {
      "text/plain": [
       "tuple"
      ]
     },
     "execution_count": 3,
     "metadata": {},
     "output_type": "execute_result"
    }
   ],
   "source": [
    "type(tup1)"
   ]
  },
  {
   "cell_type": "code",
   "execution_count": 4,
   "id": "7c985929",
   "metadata": {},
   "outputs": [
    {
     "data": {
      "text/plain": [
       "1"
      ]
     },
     "execution_count": 4,
     "metadata": {},
     "output_type": "execute_result"
    }
   ],
   "source": [
    "tup1[0]"
   ]
  },
  {
   "cell_type": "code",
   "execution_count": 5,
   "id": "2e059b13",
   "metadata": {},
   "outputs": [
    {
     "data": {
      "text/plain": [
       "4"
      ]
     },
     "execution_count": 5,
     "metadata": {},
     "output_type": "execute_result"
    }
   ],
   "source": [
    "len(tup1)"
   ]
  },
  {
   "cell_type": "code",
   "execution_count": 6,
   "id": "34fb5ac9",
   "metadata": {},
   "outputs": [
    {
     "data": {
      "text/plain": [
       "(1, 'python', True)"
      ]
     },
     "execution_count": 6,
     "metadata": {},
     "output_type": "execute_result"
    }
   ],
   "source": [
    "tup1[0:3]"
   ]
  },
  {
   "cell_type": "code",
   "execution_count": 8,
   "id": "2ae69835",
   "metadata": {},
   "outputs": [],
   "source": [
    "tup2 = (2,\"test entry\", False)"
   ]
  },
  {
   "cell_type": "code",
   "execution_count": 9,
   "id": "0da2ccfd",
   "metadata": {},
   "outputs": [
    {
     "data": {
      "text/plain": [
       "(1, 'python', True, 2.4, 2, 'test entry', False)"
      ]
     },
     "execution_count": 9,
     "metadata": {},
     "output_type": "execute_result"
    }
   ],
   "source": [
    "tup1+tup2"
   ]
  },
  {
   "cell_type": "code",
   "execution_count": 11,
   "id": "baad0f18",
   "metadata": {
    "scrolled": true
   },
   "outputs": [
    {
     "data": {
      "text/plain": [
       "(1,\n",
       " 'python',\n",
       " True,\n",
       " 2.4,\n",
       " 1,\n",
       " 'python',\n",
       " True,\n",
       " 2.4,\n",
       " 1,\n",
       " 'python',\n",
       " True,\n",
       " 2.4,\n",
       " 2,\n",
       " 'test entry',\n",
       " False)"
      ]
     },
     "execution_count": 11,
     "metadata": {},
     "output_type": "execute_result"
    }
   ],
   "source": [
    "tup1*3+tup2"
   ]
  },
  {
   "cell_type": "code",
   "execution_count": 12,
   "id": "84e4d420",
   "metadata": {},
   "outputs": [],
   "source": [
    "tup3 = (12,45,32,22,44,21)\n"
   ]
  },
  {
   "cell_type": "code",
   "execution_count": 15,
   "id": "a828ad2e",
   "metadata": {},
   "outputs": [
    {
     "data": {
      "text/plain": [
       "45"
      ]
     },
     "execution_count": 15,
     "metadata": {},
     "output_type": "execute_result"
    }
   ],
   "source": [
    "max(tup3)"
   ]
  },
  {
   "cell_type": "code",
   "execution_count": 16,
   "id": "0bb0921c",
   "metadata": {},
   "outputs": [
    {
     "data": {
      "text/plain": [
       "12"
      ]
     },
     "execution_count": 16,
     "metadata": {},
     "output_type": "execute_result"
    }
   ],
   "source": [
    "min(tup3)"
   ]
  },
  {
   "cell_type": "code",
   "execution_count": 17,
   "id": "59c66dc1",
   "metadata": {},
   "outputs": [
    {
     "data": {
      "text/plain": [
       "(12, 45, 32, 22, 44, 21, 12, 45, 32, 22, 44, 21)"
      ]
     },
     "execution_count": 17,
     "metadata": {},
     "output_type": "execute_result"
    }
   ],
   "source": [
    "tup3*2"
   ]
  },
  {
   "cell_type": "markdown",
   "id": "a2fefcb7",
   "metadata": {},
   "source": [
    "---"
   ]
  },
  {
   "cell_type": "markdown",
   "id": "711a1014",
   "metadata": {},
   "source": [
    "## List\n",
    "- Ordered collection of elements\n",
    "- Enclosed  in Square Brackets\n",
    "- Can be changed (mutatable)\n"
   ]
  },
  {
   "cell_type": "code",
   "execution_count": 19,
   "id": "7ec7e52f",
   "metadata": {},
   "outputs": [
    {
     "data": {
      "text/plain": [
       "[1, 2.4, 'My Name', True]"
      ]
     },
     "execution_count": 19,
     "metadata": {},
     "output_type": "execute_result"
    }
   ],
   "source": [
    "list1= [1,2.4,\"My Name\", True]\n",
    "list1"
   ]
  },
  {
   "cell_type": "code",
   "execution_count": 20,
   "id": "51465f4a",
   "metadata": {},
   "outputs": [
    {
     "data": {
      "text/plain": [
       "list"
      ]
     },
     "execution_count": 20,
     "metadata": {},
     "output_type": "execute_result"
    }
   ],
   "source": [
    "type(list1)"
   ]
  },
  {
   "cell_type": "code",
   "execution_count": 21,
   "id": "4b3b25f8",
   "metadata": {},
   "outputs": [
    {
     "data": {
      "text/plain": [
       "4"
      ]
     },
     "execution_count": 21,
     "metadata": {},
     "output_type": "execute_result"
    }
   ],
   "source": [
    "len(list1)"
   ]
  },
  {
   "cell_type": "code",
   "execution_count": 22,
   "id": "9a93a7ee",
   "metadata": {},
   "outputs": [
    {
     "data": {
      "text/plain": [
       "True"
      ]
     },
     "execution_count": 22,
     "metadata": {},
     "output_type": "execute_result"
    }
   ],
   "source": [
    "list1[3]"
   ]
  },
  {
   "cell_type": "code",
   "execution_count": 26,
   "id": "c718337b",
   "metadata": {},
   "outputs": [
    {
     "data": {
      "text/plain": [
       "[2.3, 1, 'Python tutorials', True]"
      ]
     },
     "execution_count": 26,
     "metadata": {},
     "output_type": "execute_result"
    }
   ],
   "source": [
    "list2=[2.3,1,\"Python tutorials\",True]\n",
    "list2"
   ]
  },
  {
   "cell_type": "code",
   "execution_count": 27,
   "id": "93f2f181",
   "metadata": {},
   "outputs": [
    {
     "data": {
      "text/plain": [
       "[1, 2.4, 'My Name', True, 2.3, 1, 'Python tutorials', True]"
      ]
     },
     "execution_count": 27,
     "metadata": {},
     "output_type": "execute_result"
    }
   ],
   "source": [
    "list1+list2"
   ]
  },
  {
   "cell_type": "code",
   "execution_count": 32,
   "id": "2cf01a47",
   "metadata": {},
   "outputs": [
    {
     "data": {
      "text/plain": [
       "[True, 'My Name', 2.4, 1]"
      ]
     },
     "execution_count": 32,
     "metadata": {},
     "output_type": "execute_result"
    }
   ],
   "source": [
    "list1.reverse()\n",
    "list1"
   ]
  },
  {
   "cell_type": "code",
   "execution_count": 34,
   "id": "7e411726",
   "metadata": {},
   "outputs": [
    {
     "data": {
      "text/plain": [
       "[True, 'My Name', 2.4, 1, 'Codanics']"
      ]
     },
     "execution_count": 34,
     "metadata": {},
     "output_type": "execute_result"
    }
   ],
   "source": [
    "list1.append(\"Codanics\")\n",
    "list1"
   ]
  },
  {
   "cell_type": "code",
   "execution_count": 37,
   "id": "72995424",
   "metadata": {},
   "outputs": [
    {
     "data": {
      "text/plain": [
       "1"
      ]
     },
     "execution_count": 37,
     "metadata": {},
     "output_type": "execute_result"
    }
   ],
   "source": [
    "list1.count(\"My Name\")"
   ]
  },
  {
   "cell_type": "code",
   "execution_count": 39,
   "id": "82990dc1",
   "metadata": {},
   "outputs": [],
   "source": [
    "list3 = [1,2,3,4,33,2,4,4,4,5,5,45,45,342,345,4]"
   ]
  },
  {
   "cell_type": "code",
   "execution_count": 42,
   "id": "61a0ce26",
   "metadata": {},
   "outputs": [
    {
     "data": {
      "text/plain": [
       "[1, 2, 2, 3, 4, 4, 4, 4, 4, 5, 5, 33, 45, 45, 342, 345]"
      ]
     },
     "execution_count": 42,
     "metadata": {},
     "output_type": "execute_result"
    }
   ],
   "source": [
    "list3.sort()\n",
    "list3"
   ]
  },
  {
   "cell_type": "markdown",
   "id": "98e1faf5",
   "metadata": {},
   "source": [
    "## Dictionaries\n",
    "- Unordered Collection of Items\n",
    "- Curly Braces are used\n",
    "- Mutatable \n",
    "- Key and Value"
   ]
  },
  {
   "cell_type": "code",
   "execution_count": 43,
   "id": "4ef659b1",
   "metadata": {},
   "outputs": [
    {
     "data": {
      "text/plain": [
       "{'samosa': 10, 'pakora': 20, 'raita': 30, 'salad': 50, 'chicken roll': 40}"
      ]
     },
     "execution_count": 43,
     "metadata": {},
     "output_type": "execute_result"
    }
   ],
   "source": [
    "d1 = {\"samosa\":10,\"pakora\":20, \"raita\":30, \"salad\":50, \"chicken roll\":40}\n",
    "d1"
   ]
  },
  {
   "cell_type": "code",
   "execution_count": 44,
   "id": "5f601a99",
   "metadata": {},
   "outputs": [
    {
     "data": {
      "text/plain": [
       "dict"
      ]
     },
     "execution_count": 44,
     "metadata": {},
     "output_type": "execute_result"
    }
   ],
   "source": [
    "type(d1)"
   ]
  },
  {
   "cell_type": "code",
   "execution_count": 46,
   "id": "fb06b6b5",
   "metadata": {},
   "outputs": [
    {
     "data": {
      "text/plain": [
       "dict_keys(['samosa', 'pakora', 'raita', 'salad', 'chicken roll'])"
      ]
     },
     "execution_count": 46,
     "metadata": {},
     "output_type": "execute_result"
    }
   ],
   "source": [
    "keys = d1.keys()\n",
    "keys"
   ]
  },
  {
   "cell_type": "code",
   "execution_count": 47,
   "id": "e9f1df9a",
   "metadata": {},
   "outputs": [
    {
     "data": {
      "text/plain": [
       "dict_keys"
      ]
     },
     "execution_count": 47,
     "metadata": {},
     "output_type": "execute_result"
    }
   ],
   "source": [
    "type(keys)"
   ]
  },
  {
   "cell_type": "code",
   "execution_count": 51,
   "id": "9a7eece5",
   "metadata": {},
   "outputs": [
    {
     "data": {
      "text/plain": [
       "dict_values([10, 20, 30, 50, 40])"
      ]
     },
     "execution_count": 51,
     "metadata": {},
     "output_type": "execute_result"
    }
   ],
   "source": [
    "values = d1.values()\n",
    "values\n"
   ]
  },
  {
   "cell_type": "code",
   "execution_count": 52,
   "id": "ac73d832",
   "metadata": {},
   "outputs": [
    {
     "data": {
      "text/plain": [
       "dict_values"
      ]
     },
     "execution_count": 52,
     "metadata": {},
     "output_type": "execute_result"
    }
   ],
   "source": [
    "type(values)"
   ]
  },
  {
   "cell_type": "code",
   "execution_count": 53,
   "id": "a273423d",
   "metadata": {},
   "outputs": [],
   "source": [
    "#adding new element\n",
    "d1[\"tikki\"]=10"
   ]
  },
  {
   "cell_type": "code",
   "execution_count": 54,
   "id": "00f73d3d",
   "metadata": {},
   "outputs": [
    {
     "data": {
      "text/plain": [
       "{'samosa': 10,\n",
       " 'pakora': 20,\n",
       " 'raita': 30,\n",
       " 'salad': 50,\n",
       " 'chicken roll': 40,\n",
       " 'tikki': 10}"
      ]
     },
     "execution_count": 54,
     "metadata": {},
     "output_type": "execute_result"
    }
   ],
   "source": [
    "d1"
   ]
  },
  {
   "cell_type": "code",
   "execution_count": 56,
   "id": "6fc8c712",
   "metadata": {},
   "outputs": [
    {
     "data": {
      "text/plain": [
       "{'dates': 100, 'alu': 132}"
      ]
     },
     "execution_count": 56,
     "metadata": {},
     "output_type": "execute_result"
    }
   ],
   "source": [
    "#update value\n",
    "d2= {\"dates\":100,\"alu\":132}\n",
    "d2"
   ]
  },
  {
   "cell_type": "code",
   "execution_count": 57,
   "id": "53554aed",
   "metadata": {},
   "outputs": [
    {
     "data": {
      "text/plain": [
       "{'samosa': 10,\n",
       " 'pakora': 20,\n",
       " 'raita': 30,\n",
       " 'salad': 50,\n",
       " 'chicken roll': 40,\n",
       " 'tikki': 10,\n",
       " 'dates': 100,\n",
       " 'alu': 132}"
      ]
     },
     "execution_count": 57,
     "metadata": {},
     "output_type": "execute_result"
    }
   ],
   "source": [
    "d1.update(d2)\n",
    "d1"
   ]
  },
  {
   "cell_type": "code",
   "execution_count": 58,
   "id": "88acb4c2",
   "metadata": {},
   "outputs": [
    {
     "data": {
      "text/plain": [
       "{'dates': 100, 'alu': 132}"
      ]
     },
     "execution_count": 58,
     "metadata": {},
     "output_type": "execute_result"
    }
   ],
   "source": [
    "d2"
   ]
  },
  {
   "cell_type": "markdown",
   "id": "fce750c3",
   "metadata": {},
   "source": [
    "## Set\n",
    "- unordered and unindexed\n",
    "- curly braces\n",
    "- no duplicates allowed"
   ]
  },
  {
   "cell_type": "code",
   "execution_count": 63,
   "id": "f145f628",
   "metadata": {},
   "outputs": [
    {
     "data": {
      "text/plain": [
       "{12, 13.3, True, 'samosa'}"
      ]
     },
     "execution_count": 63,
     "metadata": {},
     "output_type": "execute_result"
    }
   ],
   "source": [
    "s1 = {12,\"samosa\",13.3, True}\n",
    "s1"
   ]
  },
  {
   "cell_type": "code",
   "execution_count": 60,
   "id": "54236c07",
   "metadata": {},
   "outputs": [
    {
     "data": {
      "text/plain": [
       "{12.4, 3, 'pakora'}"
      ]
     },
     "execution_count": 60,
     "metadata": {},
     "output_type": "execute_result"
    }
   ],
   "source": [
    "s2 = {3,\"pakora\",12.40}\n",
    "s2"
   ]
  },
  {
   "cell_type": "code",
   "execution_count": 66,
   "id": "f7f6de4c",
   "metadata": {},
   "outputs": [
    {
     "data": {
      "text/plain": [
       "{12, 13.3, True, 'alu', 'samosa'}"
      ]
     },
     "execution_count": 66,
     "metadata": {},
     "output_type": "execute_result"
    }
   ],
   "source": [
    "s1.add(\"alu\")\n",
    "s1"
   ]
  },
  {
   "cell_type": "code",
   "execution_count": 67,
   "id": "5c3068fe",
   "metadata": {},
   "outputs": [
    {
     "data": {
      "text/plain": [
       "set"
      ]
     },
     "execution_count": 67,
     "metadata": {},
     "output_type": "execute_result"
    }
   ],
   "source": [
    "type(s1)"
   ]
  }
 ],
 "metadata": {
  "kernelspec": {
   "display_name": "Python 3 (ipykernel)",
   "language": "python",
   "name": "python3"
  },
  "language_info": {
   "codemirror_mode": {
    "name": "ipython",
    "version": 3
   },
   "file_extension": ".py",
   "mimetype": "text/x-python",
   "name": "python",
   "nbconvert_exporter": "python",
   "pygments_lexer": "ipython3",
   "version": "3.9.13"
  }
 },
 "nbformat": 4,
 "nbformat_minor": 5
}
